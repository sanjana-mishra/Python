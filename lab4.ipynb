{
  "nbformat": 4,
  "nbformat_minor": 0,
  "metadata": {
    "colab": {
      "provenance": [],
      "authorship_tag": "ABX9TyP8JvHtmSJX8dZUBQXps05V",
      "include_colab_link": true
    },
    "kernelspec": {
      "name": "python3",
      "display_name": "Python 3"
    },
    "language_info": {
      "name": "python"
    },
    "accelerator": "GPU"
  },
  "cells": [
    {
      "cell_type": "markdown",
      "metadata": {
        "id": "view-in-github",
        "colab_type": "text"
      },
      "source": [
        "<a href=\"https://colab.research.google.com/github/sanjana-mishra/Python/blob/main/lab4.ipynb\" target=\"_parent\"><img src=\"https://colab.research.google.com/assets/colab-badge.svg\" alt=\"Open In Colab\"/></a>"
      ]
    },
    {
      "cell_type": "code",
      "execution_count": 14,
      "metadata": {
        "id": "_6m6i5g6WfyO"
      },
      "outputs": [],
      "source": [
        "#PyTorch \n",
        "\n",
        "import numpy as np\n",
        "import torch\n",
        "\n"
      ]
    },
    {
      "cell_type": "code",
      "source": [
        "#create pytorch tensor\n",
        "\n",
        "my_tensor = torch.tensor ([[1,2,3],[4,5,6],[7,8,9]],dtype = torch.float32)\n",
        "my_tensor.shape\n",
        "type(my_tensor)\n",
        "my_tensor.dtype\n"
      ],
      "metadata": {
        "colab": {
          "base_uri": "https://localhost:8080/"
        },
        "id": "jZ4uHLflWtME",
        "outputId": "49e67d13-acfd-4a46-b1e2-39e5aeea842e"
      },
      "execution_count": 15,
      "outputs": [
        {
          "output_type": "execute_result",
          "data": {
            "text/plain": [
              "torch.float32"
            ]
          },
          "metadata": {},
          "execution_count": 15
        }
      ]
    },
    {
      "cell_type": "code",
      "source": [
        "#interchange numpy with torch\n",
        "\n",
        "my_array = np.array([[1,2,3], [4,5,6]], dtype = np.float32)\n",
        "new_tensor = torch.tensor(my_array)\n",
        "new_tensor.dtype\n",
        "new_array = new_tensor.numpy()\n",
        "my_tensor.device\n"
      ],
      "metadata": {
        "colab": {
          "base_uri": "https://localhost:8080/"
        },
        "id": "cf-xj_duW1Xb",
        "outputId": "adb93ae4-cadc-4541-c4e5-bc32f1e31dbc"
      },
      "execution_count": 16,
      "outputs": [
        {
          "output_type": "execute_result",
          "data": {
            "text/plain": [
              "device(type='cpu')"
            ]
          },
          "metadata": {},
          "execution_count": 16
        }
      ]
    },
    {
      "cell_type": "code",
      "source": [
        "#to check available gpu\n",
        "\n",
        "torch.cuda.is_available()"
      ],
      "metadata": {
        "colab": {
          "base_uri": "https://localhost:8080/"
        },
        "id": "dno22LhxW66X",
        "outputId": "ad08d4c2-9e2e-4b4a-c000-2b574bf84ded"
      },
      "execution_count": 17,
      "outputs": [
        {
          "output_type": "execute_result",
          "data": {
            "text/plain": [
              "True"
            ]
          },
          "metadata": {},
          "execution_count": 17
        }
      ]
    },
    {
      "cell_type": "code",
      "source": [
        "my_tensor.device"
      ],
      "metadata": {
        "colab": {
          "base_uri": "https://localhost:8080/"
        },
        "id": "6RDDDwxCW_Y0",
        "outputId": "d17b3cda-2bf1-4c6c-a1eb-95b3546946b8"
      },
      "execution_count": 18,
      "outputs": [
        {
          "output_type": "execute_result",
          "data": {
            "text/plain": [
              "device(type='cpu')"
            ]
          },
          "metadata": {},
          "execution_count": 18
        }
      ]
    },
    {
      "cell_type": "code",
      "source": [
        "torch.cuda.device_count()"
      ],
      "metadata": {
        "colab": {
          "base_uri": "https://localhost:8080/"
        },
        "id": "EgZ0FOmAXEkL",
        "outputId": "85c586af-cc57-4123-f6ce-b4d98f55b6e3"
      },
      "execution_count": 19,
      "outputs": [
        {
          "output_type": "execute_result",
          "data": {
            "text/plain": [
              "1"
            ]
          },
          "metadata": {},
          "execution_count": 19
        }
      ]
    },
    {
      "cell_type": "code",
      "source": [
        "torch.cuda.get_device_name()"
      ],
      "metadata": {
        "colab": {
          "base_uri": "https://localhost:8080/",
          "height": 36
        },
        "id": "dHac8geFXK3M",
        "outputId": "39774067-d7f3-462d-c7c5-1ed136e464c7"
      },
      "execution_count": 20,
      "outputs": [
        {
          "output_type": "execute_result",
          "data": {
            "text/plain": [
              "'Tesla T4'"
            ],
            "application/vnd.google.colaboratory.intrinsic+json": {
              "type": "string"
            }
          },
          "metadata": {},
          "execution_count": 20
        }
      ]
    },
    {
      "cell_type": "code",
      "source": [
        "my_tensor.cuda()"
      ],
      "metadata": {
        "colab": {
          "base_uri": "https://localhost:8080/"
        },
        "id": "5p59EX8gXTMN",
        "outputId": "464506c0-8706-40db-fcd3-8f40a5dd54aa"
      },
      "execution_count": 21,
      "outputs": [
        {
          "output_type": "execute_result",
          "data": {
            "text/plain": [
              "tensor([[1., 2., 3.],\n",
              "        [4., 5., 6.],\n",
              "        [7., 8., 9.]], device='cuda:0')"
            ]
          },
          "metadata": {},
          "execution_count": 21
        }
      ]
    },
    {
      "cell_type": "code",
      "source": [
        "my_tensor = my_tensor.cuda()"
      ],
      "metadata": {
        "id": "GkUYDVPFXbWM"
      },
      "execution_count": 22,
      "outputs": []
    },
    {
      "cell_type": "code",
      "source": [
        "#good practice to not hard code cuda in program/code\n",
        "\n",
        "device = torch.device('cuda' if torch.cuda.is_available() else 'cpu')\n",
        "my_tensor = \n",
        "\n",
        "\n",
        "a = torch.randn"
      ],
      "metadata": {
        "id": "e_sEspWFYDwH"
      },
      "execution_count": null,
      "outputs": []
    },
    {
      "cell_type": "code",
      "source": [
        "#BAsic operations\n",
        "\n",
        "a = torch.rand(10,10)\n",
        "b = torch.eye(3)\n",
        "print(a)"
      ],
      "metadata": {
        "colab": {
          "base_uri": "https://localhost:8080/"
        },
        "id": "0dyqIU8SZFQ1",
        "outputId": "60829107-36f5-4352-d1c1-bde0eab4c9bc"
      },
      "execution_count": 35,
      "outputs": [
        {
          "output_type": "stream",
          "name": "stdout",
          "text": [
            "tensor([[0.8134, 0.0829, 0.6370, 0.6963, 0.8067, 0.9674, 0.1262, 0.9882, 0.9644,\n",
            "         0.7374],\n",
            "        [0.4376, 0.6310, 0.1707, 0.3705, 0.3785, 0.7021, 0.0831, 0.8471, 0.8581,\n",
            "         0.5210],\n",
            "        [0.5559, 0.1746, 0.0706, 0.7361, 0.3340, 0.4871, 0.3824, 0.2941, 0.4899,\n",
            "         0.1650],\n",
            "        [0.8160, 0.6727, 0.5412, 0.6275, 0.3544, 0.5126, 0.4922, 0.8044, 0.6140,\n",
            "         0.9009],\n",
            "        [0.8656, 0.1855, 0.2686, 0.0492, 0.1201, 0.8544, 0.5663, 0.0532, 0.1547,\n",
            "         0.9337],\n",
            "        [0.2366, 0.3071, 0.4658, 0.4801, 0.5290, 0.1068, 0.9458, 0.9818, 0.3451,\n",
            "         0.9393],\n",
            "        [0.7861, 0.9447, 0.6806, 0.5112, 0.3219, 0.8614, 0.1770, 0.8715, 0.9662,\n",
            "         0.2295],\n",
            "        [0.6158, 0.6328, 0.5194, 0.3577, 0.7650, 0.8321, 0.6575, 0.0177, 0.1795,\n",
            "         0.1065],\n",
            "        [0.9519, 0.9422, 0.4335, 0.3619, 0.4272, 0.2766, 0.2867, 0.4550, 0.1535,\n",
            "         0.3148],\n",
            "        [0.5141, 0.7650, 0.9787, 0.3327, 0.7973, 0.7056, 0.6617, 0.9325, 0.0165,\n",
            "         0.6912]])\n"
          ]
        }
      ]
    },
    {
      "cell_type": "code",
      "source": [
        "#arithmetic ops are same as numpy\n",
        "\n",
        "c = a@b\n",
        "print(c)"
      ],
      "metadata": {
        "colab": {
          "base_uri": "https://localhost:8080/"
        },
        "id": "C-NaXbkyZWwK",
        "outputId": "d7e62b70-9e7f-48f8-b41e-e71d8ef88ac5"
      },
      "execution_count": 27,
      "outputs": [
        {
          "output_type": "stream",
          "name": "stdout",
          "text": [
            "tensor([[1., 2., 3.],\n",
            "        [4., 5., 6.],\n",
            "        [7., 8., 9.]])\n"
          ]
        }
      ]
    },
    {
      "cell_type": "code",
      "source": [
        "#slicing\n",
        "\n",
        "d = c[:, 0].shape\n",
        "print(d)"
      ],
      "metadata": {
        "colab": {
          "base_uri": "https://localhost:8080/"
        },
        "id": "o33Nczi1ZnJg",
        "outputId": "99e55569-7ce5-4b0b-feac-bb569530cb6f"
      },
      "execution_count": 29,
      "outputs": [
        {
          "output_type": "stream",
          "name": "stdout",
          "text": [
            "torch.Size([3])\n"
          ]
        }
      ]
    },
    {
      "cell_type": "code",
      "source": [
        "#reshaping\n",
        "\n",
        "a.shape"
      ],
      "metadata": {
        "colab": {
          "base_uri": "https://localhost:8080/"
        },
        "id": "1gVpGJkBZwr3",
        "outputId": "46cb0cf0-1403-4253-8a69-9f0219f70213"
      },
      "execution_count": 36,
      "outputs": [
        {
          "output_type": "execute_result",
          "data": {
            "text/plain": [
              "torch.Size([10, 10])"
            ]
          },
          "metadata": {},
          "execution_count": 36
        }
      ]
    },
    {
      "cell_type": "code",
      "source": [
        "a.reshape(20,5)"
      ],
      "metadata": {
        "colab": {
          "base_uri": "https://localhost:8080/"
        },
        "id": "9Nulo_Wrairw",
        "outputId": "f691b250-7c5b-4530-df3d-90e0da95a08c"
      },
      "execution_count": 37,
      "outputs": [
        {
          "output_type": "execute_result",
          "data": {
            "text/plain": [
              "tensor([[0.8134, 0.0829, 0.6370, 0.6963, 0.8067],\n",
              "        [0.9674, 0.1262, 0.9882, 0.9644, 0.7374],\n",
              "        [0.4376, 0.6310, 0.1707, 0.3705, 0.3785],\n",
              "        [0.7021, 0.0831, 0.8471, 0.8581, 0.5210],\n",
              "        [0.5559, 0.1746, 0.0706, 0.7361, 0.3340],\n",
              "        [0.4871, 0.3824, 0.2941, 0.4899, 0.1650],\n",
              "        [0.8160, 0.6727, 0.5412, 0.6275, 0.3544],\n",
              "        [0.5126, 0.4922, 0.8044, 0.6140, 0.9009],\n",
              "        [0.8656, 0.1855, 0.2686, 0.0492, 0.1201],\n",
              "        [0.8544, 0.5663, 0.0532, 0.1547, 0.9337],\n",
              "        [0.2366, 0.3071, 0.4658, 0.4801, 0.5290],\n",
              "        [0.1068, 0.9458, 0.9818, 0.3451, 0.9393],\n",
              "        [0.7861, 0.9447, 0.6806, 0.5112, 0.3219],\n",
              "        [0.8614, 0.1770, 0.8715, 0.9662, 0.2295],\n",
              "        [0.6158, 0.6328, 0.5194, 0.3577, 0.7650],\n",
              "        [0.8321, 0.6575, 0.0177, 0.1795, 0.1065],\n",
              "        [0.9519, 0.9422, 0.4335, 0.3619, 0.4272],\n",
              "        [0.2766, 0.2867, 0.4550, 0.1535, 0.3148],\n",
              "        [0.5141, 0.7650, 0.9787, 0.3327, 0.7973],\n",
              "        [0.7056, 0.6617, 0.9325, 0.0165, 0.6912]])"
            ]
          },
          "metadata": {},
          "execution_count": 37
        }
      ]
    },
    {
      "cell_type": "code",
      "source": [
        "#concatenation\n",
        "\n",
        "a = torch.tensor ([[1,2,3],[4,5,6],[7,8,9]],dtype = torch.float32)\n",
        "b = torch.ones(3,3)"
      ],
      "metadata": {
        "id": "2wREw46mam1Q"
      },
      "execution_count": 45,
      "outputs": []
    },
    {
      "cell_type": "code",
      "source": [
        "a"
      ],
      "metadata": {
        "colab": {
          "base_uri": "https://localhost:8080/"
        },
        "id": "eJwWhUX1a9iF",
        "outputId": "991c13b7-a549-4e4f-e17f-2d0e9aa78df0"
      },
      "execution_count": 39,
      "outputs": [
        {
          "output_type": "execute_result",
          "data": {
            "text/plain": [
              "tensor([[1., 2., 3.],\n",
              "        [4., 5., 6.],\n",
              "        [7., 8., 9.]])"
            ]
          },
          "metadata": {},
          "execution_count": 39
        }
      ]
    },
    {
      "cell_type": "code",
      "source": [
        "b"
      ],
      "metadata": {
        "colab": {
          "base_uri": "https://localhost:8080/"
        },
        "id": "r1FHgFyaa_Mc",
        "outputId": "50dc2422-1839-4230-ec82-3912b6ea247d"
      },
      "execution_count": 40,
      "outputs": [
        {
          "output_type": "execute_result",
          "data": {
            "text/plain": [
              "tensor([[1., 1., 1.],\n",
              "        [1., 1., 1.],\n",
              "        [1., 1., 1.]])"
            ]
          },
          "metadata": {},
          "execution_count": 40
        }
      ]
    },
    {
      "cell_type": "code",
      "source": [
        "#concatenating a and b\n",
        "\n",
        "print(torch.concat((a,b), dim=0))#row-wise(dim=0)"
      ],
      "metadata": {
        "colab": {
          "base_uri": "https://localhost:8080/"
        },
        "id": "iOSWEMZxbANu",
        "outputId": "5a9c6f56-6b23-4fd0-e246-3dcbf68e0a12"
      },
      "execution_count": 41,
      "outputs": [
        {
          "output_type": "stream",
          "name": "stdout",
          "text": [
            "tensor([[1., 2., 3.],\n",
            "        [4., 5., 6.],\n",
            "        [7., 8., 9.],\n",
            "        [1., 1., 1.],\n",
            "        [1., 1., 1.],\n",
            "        [1., 1., 1.]])\n"
          ]
        }
      ]
    },
    {
      "cell_type": "code",
      "source": [
        "#concatenating a and b\n",
        "\n",
        "print(torch.concat((a,b), dim=1))#col-wise(dim=1)"
      ],
      "metadata": {
        "colab": {
          "base_uri": "https://localhost:8080/"
        },
        "id": "ZZWXCn8PbRjO",
        "outputId": "1c88bfdb-ba37-435d-c889-47b63cbbbc46"
      },
      "execution_count": 42,
      "outputs": [
        {
          "output_type": "stream",
          "name": "stdout",
          "text": [
            "tensor([[1., 2., 3., 1., 1., 1.],\n",
            "        [4., 5., 6., 1., 1., 1.],\n",
            "        [7., 8., 9., 1., 1., 1.]])\n"
          ]
        }
      ]
    },
    {
      "cell_type": "code",
      "source": [
        "a.shape\n"
      ],
      "metadata": {
        "colab": {
          "base_uri": "https://localhost:8080/"
        },
        "id": "1XZQF3v8bVzR",
        "outputId": "27783bda-b912-4681-ffdd-78180dafe125"
      },
      "execution_count": 43,
      "outputs": [
        {
          "output_type": "execute_result",
          "data": {
            "text/plain": [
              "torch.Size([3, 3])"
            ]
          },
          "metadata": {},
          "execution_count": 43
        }
      ]
    },
    {
      "cell_type": "code",
      "source": [
        "#multi-dimension tensors\n",
        "\n",
        "a = torch.randn(size=(10,10,10))\n",
        "a.shape"
      ],
      "metadata": {
        "colab": {
          "base_uri": "https://localhost:8080/"
        },
        "id": "oIfnF011bbeK",
        "outputId": "15c6496a-e2c7-4654-a8e0-ba59f2c88825"
      },
      "execution_count": 44,
      "outputs": [
        {
          "output_type": "execute_result",
          "data": {
            "text/plain": [
              "torch.Size([10, 10, 10])"
            ]
          },
          "metadata": {},
          "execution_count": 44
        }
      ]
    },
    {
      "cell_type": "code",
      "source": [
        "#concatenation\n",
        "\n",
        "a = torch.tensor ([[1,2,3],[4,5,6],[7,8,9]],dtype = torch.float32)\n",
        "b = torch.ones(3,3)"
      ],
      "metadata": {
        "id": "OfSDfp-rcGsS"
      },
      "execution_count": 48,
      "outputs": []
    },
    {
      "cell_type": "code",
      "source": [
        "#concatenate a and b along an extra dmension\n",
        "\n",
        "a = a.unsqueeze(0) #inside the paranthesis is the dimension argument\n",
        "b = b.unsqueeze(0)\n",
        "c = torch.concat((a,b), dim = 0)\n",
        "print(c.shape)\n"
      ],
      "metadata": {
        "colab": {
          "base_uri": "https://localhost:8080/"
        },
        "id": "QdD12iwUcZKF",
        "outputId": "1c29da78-5665-4a8a-fb20-31d3abf96811"
      },
      "execution_count": 50,
      "outputs": [
        {
          "output_type": "stream",
          "name": "stdout",
          "text": [
            "torch.Size([2, 3, 3])\n"
          ]
        }
      ]
    },
    {
      "cell_type": "code",
      "source": [
        "a.shape"
      ],
      "metadata": {
        "colab": {
          "base_uri": "https://localhost:8080/"
        },
        "id": "0T9dYRjPdDUo",
        "outputId": "26224b8b-5475-4ffb-955e-2c40db8aadd1"
      },
      "execution_count": 51,
      "outputs": [
        {
          "output_type": "execute_result",
          "data": {
            "text/plain": [
              "torch.Size([1, 3, 3])"
            ]
          },
          "metadata": {},
          "execution_count": 51
        }
      ]
    },
    {
      "cell_type": "code",
      "source": [
        "a = a.squeeze() ##destorys extra dim\n",
        "print(a.shape)"
      ],
      "metadata": {
        "colab": {
          "base_uri": "https://localhost:8080/"
        },
        "id": "fS3DiAYLdK8q",
        "outputId": "60ccc958-9adc-4b04-9df9-587c1eb444c2"
      },
      "execution_count": 52,
      "outputs": [
        {
          "output_type": "stream",
          "name": "stdout",
          "text": [
            "torch.Size([3, 3])\n"
          ]
        }
      ]
    },
    {
      "cell_type": "code",
      "source": [
        "##DEFINE SIMPLE NEURAL NETWORK\n",
        "#Neural Networks with PyTorch\n",
        "\n",
        "class MyModel (torch.nn.Module):\n",
        "  def __init__ (self):\n",
        "    super(MyModel, self).__init__()\n",
        "    self.fc1 = torch.nn.Linear(4, 8)\n",
        "    self.relu1 = torch.nn.ReLU()\n",
        "    self.fc2 = torch.nn.Linear(8, 1)\n",
        "    self.relu2 = torch.nn.ReLU()\n",
        "def forward(self, x):\n",
        "  x = self.fcl(x)\n",
        "  x = self.relu1(x)\n",
        "  x = self.fc2(x)\n",
        "  out = self.fc2(x)\n",
        "  return out\n",
        "\n"
      ],
      "metadata": {
        "id": "W4QZvvT-dd4Z"
      },
      "execution_count": null,
      "outputs": []
    },
    {
      "cell_type": "code",
      "source": [
        "##sequential\n",
        "\n",
        "seq_model = torch.nn.Sequential(\n",
        "    torch.nn.Linear(4, 8),\n",
        "    torch.nn.ReLU(),\n",
        "    torch.nn.Linear(8, 1)\n",
        ")"
      ],
      "metadata": {
        "id": "ogKOraDggD-7"
      },
      "execution_count": null,
      "outputs": []
    },
    {
      "cell_type": "code",
      "source": [
        "#autograd--automates the differntiation and back propogation steps\n",
        "\n",
        "a = torch.tensor ([[1,2,3],[4,5,6],[7,8,9]],dtype = torch.float32, requires_grad=True)\n",
        "print(a.grad)\n",
        "print(a.grad_fn)"
      ],
      "metadata": {
        "colab": {
          "base_uri": "https://localhost:8080/"
        },
        "id": "Q0NgXVz4gwFI",
        "outputId": "ebdf473c-bb87-4d82-8a13-87acda313893"
      },
      "execution_count": 54,
      "outputs": [
        {
          "output_type": "stream",
          "name": "stdout",
          "text": [
            "None\n",
            "None\n"
          ]
        }
      ]
    },
    {
      "cell_type": "code",
      "source": [
        "a = torch.tensor ([[1,2,3],[4,5,6],[7,8,9]],dtype = torch.float32, requires_grad=True)\n",
        "y = a + 2\n",
        "z = y * y\n",
        "out = torch.mean(z)\n",
        "print(out)"
      ],
      "metadata": {
        "colab": {
          "base_uri": "https://localhost:8080/"
        },
        "id": "C99uc3-khQGU",
        "outputId": "00d33a0f-377c-4570-f526-5ac2c12cd518"
      },
      "execution_count": 62,
      "outputs": [
        {
          "output_type": "stream",
          "name": "stdout",
          "text": [
            "tensor(55.6667, grad_fn=<MeanBackward0>)\n"
          ]
        }
      ]
    },
    {
      "cell_type": "code",
      "source": [
        "out.backward"
      ],
      "metadata": {
        "colab": {
          "base_uri": "https://localhost:8080/"
        },
        "id": "_FYxW0lkhvyD",
        "outputId": "db88ef50-1e2e-410c-eb40-efbbd4e3b522"
      },
      "execution_count": 63,
      "outputs": [
        {
          "output_type": "execute_result",
          "data": {
            "text/plain": [
              "<bound method Tensor.backward of tensor(55.6667, grad_fn=<MeanBackward0>)>"
            ]
          },
          "metadata": {},
          "execution_count": 63
        }
      ]
    },
    {
      "cell_type": "code",
      "source": [
        "a.grad"
      ],
      "metadata": {
        "id": "xZ0X938XhyLH"
      },
      "execution_count": 64,
      "outputs": []
    },
    {
      "cell_type": "code",
      "source": [
        "a.detach().cpu().numpy()"
      ],
      "metadata": {
        "colab": {
          "base_uri": "https://localhost:8080/"
        },
        "id": "pRuLf2ATiV_J",
        "outputId": "3fa16ce1-c01f-4a79-c59f-a726a932b38b"
      },
      "execution_count": 69,
      "outputs": [
        {
          "output_type": "execute_result",
          "data": {
            "text/plain": [
              "array([[1., 2., 3.],\n",
              "       [4., 5., 6.],\n",
              "       [7., 8., 9.]], dtype=float32)"
            ]
          },
          "metadata": {},
          "execution_count": 69
        }
      ]
    },
    {
      "cell_type": "code",
      "source": [
        "a.device"
      ],
      "metadata": {
        "colab": {
          "base_uri": "https://localhost:8080/"
        },
        "id": "BEC7zp6HioWG",
        "outputId": "b3e44cbb-1f23-44e6-c31e-4b7f191a8e08"
      },
      "execution_count": 70,
      "outputs": [
        {
          "output_type": "execute_result",
          "data": {
            "text/plain": [
              "device(type='cpu')"
            ]
          },
          "metadata": {},
          "execution_count": 70
        }
      ]
    }
  ]
}