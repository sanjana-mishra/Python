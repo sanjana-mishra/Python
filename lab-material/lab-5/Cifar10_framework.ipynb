{
  "nbformat": 4,
  "nbformat_minor": 0,
  "metadata": {
    "colab": {
      "provenance": [],
      "collapsed_sections": []
    },
    "kernelspec": {
      "name": "python3",
      "display_name": "Python 3"
    },
    "language_info": {
      "name": "python"
    },
    "accelerator": "GPU"
  },
  "cells": [
    {
      "cell_type": "markdown",
      "source": [
        "# Import libraries"
      ],
      "metadata": {
        "id": "Z1PXnVVhTgzE"
      }
    },
    {
      "cell_type": "code",
      "source": [
        "import torch\n",
        "import torch.nn as nn\n",
        "import torch.nn.functional as F\n",
        "import torch.optim as optim\n",
        "\n",
        "from torch.utils.data import Dataset, DataLoader\n",
        "\n",
        "from torchvision import transforms\n",
        "from torchvision import datasets"
      ],
      "metadata": {
        "id": "KynY2i0pTgG1"
      },
      "execution_count": 9,
      "outputs": []
    },
    {
      "cell_type": "markdown",
      "source": [
        "# Download dataset"
      ],
      "metadata": {
        "id": "WUh_JPSpUbvo"
      }
    },
    {
      "cell_type": "code",
      "execution_count": 10,
      "metadata": {
        "id": "4mGb5ZPaTVV-",
        "colab": {
          "base_uri": "https://localhost:8080/"
        },
        "outputId": "3185177f-c772-4393-bf7a-5c2226c0c1bd"
      },
      "outputs": [
        {
          "output_type": "stream",
          "name": "stdout",
          "text": [
            "Files already downloaded and verified\n"
          ]
        }
      ],
      "source": [
        "t = transforms.Compose([\n",
        "    transforms.ToTensor(),\n",
        "    transforms.Normalize([0.5, 0.5, 0.5], [0.5, 0.5, 0.5])\n",
        "])\n",
        "\n",
        "batch_size = 128\n",
        "trainset = datasets.CIFAR10(root='./data', train=True,\n",
        "                                        download=True, transform=t)\n",
        "\n",
        "trainloader = torch.utils.data.DataLoader(trainset, batch_size=batch_size,\n",
        "                                           shuffle=True, num_workers=0)\n",
        "\n",
        "\n"
      ]
    },
    {
      "cell_type": "code",
      "source": [
        "#plot image from dataset\n",
        "import matplotlib.pyplot as plt\n",
        "\n",
        "classes = ['Airplane', 'Automobile', 'Bird', 'Cat', 'Deer', 'Dog', 'Frog', 'Horse', 'Ship', 'Truck']\n",
        "\n",
        "sample_data = trainset.__getitem__(5)\n",
        "image, label = sample_data\n",
        "\n",
        "image = image.permute(1, 2, 0)\n",
        "image = ((image.numpy() + 1) * 127.5).astype('uint8')\n",
        "\n",
        "\n",
        "plt.imshow(image)\n",
        "plt.axis('off')\n",
        "plt.title(classes[label])\n",
        "plt.show()"
      ],
      "metadata": {
        "id": "kSeYhOSVUrT-",
        "colab": {
          "base_uri": "https://localhost:8080/",
          "height": 264
        },
        "outputId": "b4dd0fd7-5696-48df-c7e7-01bbd88a573a"
      },
      "execution_count": 11,
      "outputs": [
        {
          "output_type": "display_data",
          "data": {
            "text/plain": [
              "<Figure size 432x288 with 1 Axes>"
            ],
            "image/png": "[encoded data removed]"
          },
          "metadata": {
            "needs_background": "light"
          }
        }
      ]
    },
    {
      "cell_type": "markdown",
      "source": [
        "# Define Model"
      ],
      "metadata": {
        "id": "dNdiZuqZWPDj"
      }
    },
    {
      "cell_type": "code",
      "source": [
        "class BasicBlock(nn.Module):\n",
        "  def __init__(self, in_channels, out_channels):\n",
        "    super(BasicBlock, self).__init__()\n",
        "    self.conv2d_1 = nn.Conv2d(in_channels=3, out_channels=16, kernel_size=5)  \n",
        "    self.relu_1 = nn.ReLU()\n",
        "    self.mpool_1 = nn.MaxPool2d(2)\n",
        "    self.conv2d_2 = nn.Conv2d(in_channels=16, out_channels=16, kernel_size=5)  \n",
        "    self.relu_2 = nn.ReLU()\n",
        "    self.mpool_2 = nn.MaxPool2d(2)\n",
        "\n",
        "  def forward(self, x):\n",
        "    out = self.conv2d_1(x)\n",
        "    out = self.relu(x)\n",
        "    out = self.mpool(x)\n",
        "    out = self.conv2d_2(x)\n",
        "    out = self.relu(x)\n",
        "    out = self.mpool(x)\n",
        "\n",
        "\n",
        "class Classifier(nn.Module):\n",
        "  def __init__(self):\n",
        "    super(Classifier, self).__init__()    \n",
        "    self.linear_1 = nn.Linear(16, 128, bias = True)\n",
        "    self.relu_1 = nn.ReLU()\n",
        "    self.linear_2 = nn.Linear(128, 64, bias = True)\n",
        "    self.relu_2 = nn.ReLU()\n",
        "    self.linear_3 = nn.Linear(64, 10, bias = True)\n",
        "\n",
        "  def forward(self, x):\n",
        "    out = self.linear_1(x)\n",
        "    out = self.relu_1(x)\n",
        "    out = self.linear_2(x)\n",
        "    out = self.relu_2(x)\n",
        "    out = self.linear_3(x)\n",
        "\n"
      ],
      "metadata": {
        "id": "GoOfZ9WNWNqt"
      },
      "execution_count": 8,
      "outputs": []
    },
    {
      "cell_type": "markdown",
      "source": [
        "# Optimization loop"
      ],
      "metadata": {
        "id": "4r0GS6WIZid2"
      }
    },
    {
      "cell_type": "code",
      "source": [
        "#hyper parameters\n",
        "nepochs = 10\n",
        "learning_rate = 1e-3\n",
        "device = torch.device('cuda')\n",
        "\n",
        "#define model and transfer to GPU\n",
        "model = Classifier().to(torch.device(\"GPU\"))\n",
        "\n",
        "#define optimizer\n",
        "optimizer = optim.Adam(model.parameters(), lr = 1e-3)\n",
        "optimizer.step()\n",
        "optimizer.zero_grad()\n",
        "\n",
        "#define loss\n",
        "loss_function = ...\n",
        "\n",
        "#optimization loop\n",
        "for epoch in range(nepochs):\n",
        "  total_loss = 0.\n",
        "  for i, data in enumerate(trainloader):\n",
        "    images, labels = data\n",
        "    images = images.to(device)\n",
        "    labels = labels.to(device)\n",
        "    \n",
        "    predictions = model(images)\n",
        "    loss = loss_function(predictions, labels)\n",
        "    total_loss += loss\n",
        "    optimizer.zero_grad()\n",
        "    loss.backward()\n",
        "    optimizer.step()\n",
        "\n",
        "  print('epoch {}/{}: loss = {:.4f}'.format(epoch, nepochs, total_loss))\n",
        "  total_loss = 0"
      ],
      "metadata": {
        "id": "KoH4gP__Zhzw",
        "colab": {
          "base_uri": "https://localhost:8080/",
          "height": 244
        },
        "outputId": "ab0a2d88-7607-4a0a-9d79-e88f1280762c"
      },
      "execution_count": 7,
      "outputs": [
        {
          "output_type": "error",
          "ename": "TypeError",
          "evalue": "ignored",
          "traceback": [
            "\u001b[0;31m---------------------------------------------------------------------------\u001b[0m",
            "\u001b[0;31mTypeError\u001b[0m                                 Traceback (most recent call last)",
            "\u001b[0;32m<ipython-input-7-b0efac4d083c>\u001b[0m in \u001b[0;36m<module>\u001b[0;34m\u001b[0m\n\u001b[1;32m     21\u001b[0m     \u001b[0mlabels\u001b[0m \u001b[0;34m=\u001b[0m \u001b[0mlabels\u001b[0m\u001b[0;34m.\u001b[0m\u001b[0mto\u001b[0m\u001b[0;34m(\u001b[0m\u001b[0mdevice\u001b[0m\u001b[0;34m)\u001b[0m\u001b[0;34m\u001b[0m\u001b[0;34m\u001b[0m\u001b[0m\n\u001b[1;32m     22\u001b[0m \u001b[0;34m\u001b[0m\u001b[0m\n\u001b[0;32m---> 23\u001b[0;31m     \u001b[0mpredictions\u001b[0m \u001b[0;34m=\u001b[0m \u001b[0mmodel\u001b[0m\u001b[0;34m(\u001b[0m\u001b[0mimages\u001b[0m\u001b[0;34m)\u001b[0m\u001b[0;34m\u001b[0m\u001b[0;34m\u001b[0m\u001b[0m\n\u001b[0m\u001b[1;32m     24\u001b[0m     \u001b[0mloss\u001b[0m \u001b[0;34m=\u001b[0m \u001b[0mloss_function\u001b[0m\u001b[0;34m(\u001b[0m\u001b[0mpredictions\u001b[0m\u001b[0;34m,\u001b[0m \u001b[0mlabels\u001b[0m\u001b[0;34m)\u001b[0m\u001b[0;34m\u001b[0m\u001b[0;34m\u001b[0m\u001b[0m\n\u001b[1;32m     25\u001b[0m     \u001b[0mtotal_loss\u001b[0m \u001b[0;34m+=\u001b[0m \u001b[0mloss\u001b[0m\u001b[0;34m\u001b[0m\u001b[0;34m\u001b[0m\u001b[0m\n",
            "\u001b[0;31mTypeError\u001b[0m: 'ellipsis' object is not callable"
          ]
        }
      ]
    }
  ]
}